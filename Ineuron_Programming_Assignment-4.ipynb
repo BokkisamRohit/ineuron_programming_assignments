{
 "cells": [
  {
   "cell_type": "markdown",
   "id": "74c986ba",
   "metadata": {},
   "source": [
    "Write a Python Program to Find the Factorial of a Number?"
   ]
  },
  {
   "cell_type": "code",
   "execution_count": 7,
   "id": "fe0d91a9",
   "metadata": {},
   "outputs": [
    {
     "name": "stdout",
     "output_type": "stream",
     "text": [
      "Enter the value for n: 7\n",
      "The factorial of the given number 7 is 5040\n"
     ]
    }
   ],
   "source": [
    "#Solution for q1\n",
    "def factorial(number):\n",
    "    if(number<0):\n",
    "        return 0\n",
    "    elif((number==0) or(number==1)):\n",
    "        return 1\n",
    "    else:\n",
    "        fact=1\n",
    "        while(number>1):\n",
    "            fact*=number\n",
    "            number-=1\n",
    "        return fact\n",
    "try:\n",
    "    n=int(input(\"Enter the value for n: \"))\n",
    "    result=factorial(n)\n",
    "    print(\"The factorial of the given number {0} is {1}\".format(n,result))\n",
    "except Exception as e:\n",
    "    print(e)"
   ]
  },
  {
   "cell_type": "markdown",
   "id": "89cc59f9",
   "metadata": {},
   "source": [
    "Write a Python Program to Display the multiplication Table?"
   ]
  },
  {
   "cell_type": "code",
   "execution_count": 9,
   "id": "439d3038",
   "metadata": {},
   "outputs": [
    {
     "name": "stdout",
     "output_type": "stream",
     "text": [
      "Enter the value in number: 15\n",
      "15 x 1 = 15\n",
      "15 x 2 = 30\n",
      "15 x 3 = 45\n",
      "15 x 4 = 60\n",
      "15 x 5 = 75\n",
      "15 x 6 = 90\n",
      "15 x 7 = 105\n",
      "15 x 8 = 120\n",
      "15 x 9 = 135\n",
      "15 x 10 = 150\n"
     ]
    }
   ],
   "source": [
    "#Solution for q2\n",
    "'''\n",
    "Displaying table of a number from 1 to 10\n",
    "'''\n",
    "number=int(input(\"Enter the value in number: \"))\n",
    "for i in range(1,11):\n",
    "    print(\"{0} x {1} = {2}\".format(number,i,(number*i)))"
   ]
  },
  {
   "cell_type": "markdown",
   "id": "921aef6b",
   "metadata": {},
   "source": [
    "Write a Python Program to Print the Fibonacci sequence?"
   ]
  },
  {
   "cell_type": "code",
   "execution_count": 13,
   "id": "c8b47f34",
   "metadata": {},
   "outputs": [
    {
     "name": "stdout",
     "output_type": "stream",
     "text": [
      "Enter the number of terms to be generated in the Fibonacci sequence: 9\n",
      "The Fibonacci Sequence is:\n",
      "0 1 1 2 3 5 8 13 21 "
     ]
    }
   ],
   "source": [
    "#Solution for q3\n",
    "nt=int(input(\"Enter the number of terms to be generated in the Fibonacci sequence: \"))\n",
    "f1,f2=0,1\n",
    "if(nt<0):\n",
    "    print(\"The given value {0} is negative. Kindly enter a positive number.\".format(nt))\n",
    "elif(nt==1):\n",
    "    print(\"The Fibonacci Sequence is:\")\n",
    "    print(f1)\n",
    "else:\n",
    "    cnt=0\n",
    "    print(\"The Fibonacci Sequence is:\")\n",
    "    while(cnt<nt):\n",
    "        print(f1,end=' ')\n",
    "        f3=f1+f2\n",
    "        f1=f2\n",
    "        f2=f3\n",
    "        cnt+=1"
   ]
  },
  {
   "cell_type": "markdown",
   "id": "77153084",
   "metadata": {},
   "source": [
    "Write a Python Program to Check Armstrong Number?"
   ]
  },
  {
   "cell_type": "code",
   "execution_count": 18,
   "id": "8011ad9c",
   "metadata": {},
   "outputs": [
    {
     "name": "stdout",
     "output_type": "stream",
     "text": [
      "Enter the number: 153\n",
      "153 is a armstrong number\n"
     ]
    }
   ],
   "source": [
    "#Solution for q4\n",
    "number=input(\"Enter the number: \")\n",
    "order_based_on_length_of_number=len(number)\n",
    "l=list(number)\n",
    "amg_num=0\n",
    "for i in l:\n",
    "    amg_num+=(int(i)**order_based_on_length_of_number)\n",
    "if(int(number)==amg_num):\n",
    "    print(\"{0} is a armstrong number\".format(number))\n",
    "else:\n",
    "    print(\"{0} is not a armstrong number\".format(number))"
   ]
  },
  {
   "cell_type": "markdown",
   "id": "e85cac88",
   "metadata": {},
   "source": [
    "Write a Python Program to Find Armstrong Number in an Interval?"
   ]
  },
  {
   "cell_type": "code",
   "execution_count": 20,
   "id": "e28151ff",
   "metadata": {},
   "outputs": [
    {
     "name": "stdout",
     "output_type": "stream",
     "text": [
      "Enter the starting point number: 100\n",
      "Enter the end point number: 2000\n",
      "The Armstrong number in the  given range 100-2000 is:\n",
      "153 370 371 407 1634 "
     ]
    }
   ],
   "source": [
    "#Solution for q5\n",
    "start_point=int(input(\"Enter the starting point number: \"))\n",
    "end_point=int(input(\"Enter the end point number: \"))\n",
    "print(\"The Armstrong number in the  given range {0}-{1} is:\".format(start_point,end_point))\n",
    "for i in range(start_point,end_point):\n",
    "    order_based_on_length_of_number=len(str(i))\n",
    "    amg_num_sum=0\n",
    "    l=list(str(i))\n",
    "    for j in l:\n",
    "        amg_num_sum+=(int(j)**order_based_on_length_of_number)\n",
    "    if(i==amg_num_sum):\n",
    "        print(i,end=' ')"
   ]
  },
  {
   "cell_type": "markdown",
   "id": "6ba5cc1d",
   "metadata": {},
   "source": [
    "Write a Python Program to Find the Sum of Natural Numbers?"
   ]
  },
  {
   "cell_type": "code",
   "execution_count": 26,
   "id": "98b82c76",
   "metadata": {},
   "outputs": [
    {
     "name": "stdout",
     "output_type": "stream",
     "text": [
      "Enter a number: 10\n",
      "The Sum of 10 natural numbers is: 55\n"
     ]
    }
   ],
   "source": [
    "#Solution for q6\n",
    "n=int(input(\"Enter a number: \"))\n",
    "result=(n*(n+1))//2\n",
    "print(\"The Sum of {0} natural numbers is: {1}\".format(n,result))"
   ]
  },
  {
   "cell_type": "code",
   "execution_count": null,
   "id": "8d82bfa0",
   "metadata": {},
   "outputs": [],
   "source": []
  }
 ],
 "metadata": {
  "kernelspec": {
   "display_name": "Python 3 (ipykernel)",
   "language": "python",
   "name": "python3"
  },
  "language_info": {
   "codemirror_mode": {
    "name": "ipython",
    "version": 3
   },
   "file_extension": ".py",
   "mimetype": "text/x-python",
   "name": "python",
   "nbconvert_exporter": "python",
   "pygments_lexer": "ipython3",
   "version": "3.9.7"
  }
 },
 "nbformat": 4,
 "nbformat_minor": 5
}
