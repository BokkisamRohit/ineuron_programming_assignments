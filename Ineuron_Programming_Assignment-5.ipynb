{
 "cells": [
  {
   "cell_type": "markdown",
   "id": "134f551c",
   "metadata": {},
   "source": [
    "Write a Python Program to Find LCM?"
   ]
  },
  {
   "cell_type": "code",
   "execution_count": 4,
   "id": "81d2427e",
   "metadata": {},
   "outputs": [
    {
     "name": "stdout",
     "output_type": "stream",
     "text": [
      "Enter the value for number1: 4\n",
      "Enter the value for number2: 18\n",
      "LCM of n1=4 and n2=18 is 36\n"
     ]
    }
   ],
   "source": [
    "#Solution for q1\n",
    "n1=int(input(\"Enter the value for number1: \"))\n",
    "n2=int(input(\"Enter the value for number2: \"))\n",
    "lcm= n1 if(n1>n2) else n2\n",
    "while(True):\n",
    "    if((lcm%n1==0) and (lcm%n2==0)):\n",
    "        result=lcm\n",
    "        break\n",
    "    lcm+=1\n",
    "print(\"LCM of n1={0} and n2={1} is {2}\".format(n1,n2,result))"
   ]
  },
  {
   "cell_type": "markdown",
   "id": "a9891acc",
   "metadata": {},
   "source": [
    "Write a Python Program to Find HCF?"
   ]
  },
  {
   "cell_type": "code",
   "execution_count": 10,
   "id": "27f076db",
   "metadata": {},
   "outputs": [
    {
     "name": "stdout",
     "output_type": "stream",
     "text": [
      "Enter the value for number1: 9\n",
      "Enter the value for number2: 63\n",
      "HCF of n1=9 and n2=63 is 9\n"
     ]
    }
   ],
   "source": [
    "#Solution for q2\n",
    "n1=int(input(\"Enter the value for number1: \"))\n",
    "n2=int(input(\"Enter the value for number2: \"))\n",
    "hcf=0\n",
    "n=1\n",
    "while(n<=n1 or n<=n2):\n",
    "    if((n1%n==0) and (n2%n==0)):\n",
    "        hcf=n\n",
    "    n+=1\n",
    "print(\"HCF of n1={0} and n2={1} is {2}\".format(n1,n2,hcf))"
   ]
  },
  {
   "cell_type": "markdown",
   "id": "449898d7",
   "metadata": {},
   "source": [
    "Write a Python Program to Convert Decimal to Binary, Octal and Hexadecimal?"
   ]
  },
  {
   "cell_type": "code",
   "execution_count": 15,
   "id": "18d32128",
   "metadata": {},
   "outputs": [
    {
     "name": "stdout",
     "output_type": "stream",
     "text": [
      "Enter the value: 15\n",
      "The binary equivalent for the given decimal number n=15 is 1111\n",
      "The octal equivalent for the given decimal number n=15 is 17\n",
      "The hexadecimal equivalent for the given decimal number n=15 is f\n"
     ]
    }
   ],
   "source": [
    "#Solution for q3\n",
    "n=int(input(\"Enter the value: \"))\n",
    "binary='{:0b}'.format(n)\n",
    "octal='{:0o}'.format(n)\n",
    "hexadecimal='{:0x}'.format(n)\n",
    "print(\"The binary equivalent for the given decimal number n={0} is {1}\".format(n,binary))\n",
    "print(\"The octal equivalent for the given decimal number n={0} is {1}\".format(n,octal))\n",
    "print(\"The hexadecimal equivalent for the given decimal number n={0} is {1}\".format(n,hexadecimal))"
   ]
  },
  {
   "cell_type": "markdown",
   "id": "b6d3e4a9",
   "metadata": {},
   "source": [
    "Write a Python Program To Find ASCII value of a character?"
   ]
  },
  {
   "cell_type": "code",
   "execution_count": 16,
   "id": "27592291",
   "metadata": {},
   "outputs": [
    {
     "name": "stdout",
     "output_type": "stream",
     "text": [
      "Enter a single character: A\n",
      "The ASCII value for the given character A is 65\n"
     ]
    }
   ],
   "source": [
    "#Solution for q4\n",
    "character=input(\"Enter a single character: \")\n",
    "print(\"The ASCII value for the given character {0} is {1}\".format(character,ord(character)))"
   ]
  },
  {
   "cell_type": "markdown",
   "id": "8cb065dd",
   "metadata": {},
   "source": [
    "Write a Python Program to Make a Simple Calculator with 4 basic mathematical operations?"
   ]
  },
  {
   "cell_type": "code",
   "execution_count": 18,
   "id": "9cbe8b81",
   "metadata": {},
   "outputs": [
    {
     "name": "stdout",
     "output_type": "stream",
     "text": [
      "Select operation.\n",
      "1.Addition\n",
      "2.Subtraction\n",
      "3.Multiplication\n",
      "4.Division\n",
      "Enter operation(1/2/3/4): 1\n",
      "Enter the value for number1: 4\n",
      "Enter the value for number2: 5\n",
      "Addition for two numbers n1=4 and n2=5 is 9\n",
      "Enter y/n for starting next operation: y\n",
      "Select operation.\n",
      "1.Addition\n",
      "2.Subtraction\n",
      "3.Multiplication\n",
      "4.Division\n",
      "Enter operation(1/2/3/4): 2\n",
      "Enter the value for number1: 5\n",
      "Enter the value for number2: 4\n",
      "Substraction for two numbers n1=5 and n2=4 is 1\n",
      "Enter y/n for starting next operation: y\n",
      "Select operation.\n",
      "1.Addition\n",
      "2.Subtraction\n",
      "3.Multiplication\n",
      "4.Division\n",
      "Enter operation(1/2/3/4): 3\n",
      "Enter the value for number1: 9\n",
      "Enter the value for number2: 7\n",
      "Multiplication for two numbers n1=9 and n2=7 is 63\n",
      "Enter y/n for starting next operation: y\n",
      "Select operation.\n",
      "1.Addition\n",
      "2.Subtraction\n",
      "3.Multiplication\n",
      "4.Division\n",
      "Enter operation(1/2/3/4): 4\n",
      "Enter the value for number1: 4\n",
      "Enter the value for number2: 2\n",
      "Substraction for two numbers n1=4 and n2=2 is 2.0\n",
      "Enter y/n for starting next operation: y\n",
      "Select operation.\n",
      "1.Addition\n",
      "2.Subtraction\n",
      "3.Multiplication\n",
      "4.Division\n",
      "Enter operation(1/2/3/4): 4\n",
      "Enter the value for number1: 4\n",
      "Enter the value for number2: 0\n",
      "division by zero\n",
      "Enter y/n for starting next operation: n\n"
     ]
    }
   ],
   "source": [
    "#Solution for q5\n",
    "while(True):\n",
    "    print(\"Select operation.\")\n",
    "    print(\"1.Addition\")\n",
    "    print(\"2.Subtraction\")\n",
    "    print(\"3.Multiplication\")\n",
    "    print(\"4.Division\")\n",
    "    op=input(\"Enter operation(1/2/3/4): \")\n",
    "    l=list(str(1234))\n",
    "    if(op in l):\n",
    "        n1=int(input(\"Enter the value for number1: \"))\n",
    "        n2=int(input(\"Enter the value for number2: \"))\n",
    "        if(op=='1'):\n",
    "            print(\"Addition for two numbers n1={0} and n2={1} is {2}\".format(n1,n2,(n1+n2)))\n",
    "        elif(op=='2'):\n",
    "            print(\"Substraction for two numbers n1={0} and n2={1} is {2}\".format(n1,n2,(n1-n2)))\n",
    "        elif(op=='3'):\n",
    "            print(\"Multiplication for two numbers n1={0} and n2={1} is {2}\".format(n1,n2,(n1*n2)))\n",
    "        elif(op=='4'):\n",
    "            try:\n",
    "                print(\"Substraction for two numbers n1={0} and n2={1} is {2}\".format(n1,n2,(n1/n2)))\n",
    "            except Exception as e:\n",
    "                print(e)\n",
    "        nop=input(\"Enter y/n for starting next operation: \")\n",
    "        if(nop=='n'):\n",
    "            break\n",
    "        \n",
    "    else:\n",
    "        print(\"Invalid Operation Entered!\")"
   ]
  },
  {
   "cell_type": "code",
   "execution_count": null,
   "id": "2c040f34",
   "metadata": {},
   "outputs": [],
   "source": []
  }
 ],
 "metadata": {
  "kernelspec": {
   "display_name": "Python 3 (ipykernel)",
   "language": "python",
   "name": "python3"
  },
  "language_info": {
   "codemirror_mode": {
    "name": "ipython",
    "version": 3
   },
   "file_extension": ".py",
   "mimetype": "text/x-python",
   "name": "python",
   "nbconvert_exporter": "python",
   "pygments_lexer": "ipython3",
   "version": "3.9.7"
  }
 },
 "nbformat": 4,
 "nbformat_minor": 5
}
