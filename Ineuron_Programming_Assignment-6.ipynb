{
 "cells": [
  {
   "cell_type": "markdown",
   "id": "12345954",
   "metadata": {},
   "source": [
    "Write a Python Program to Display Fibonacci Sequence Using Recursion?"
   ]
  },
  {
   "cell_type": "code",
   "execution_count": 2,
   "id": "681c81e8",
   "metadata": {},
   "outputs": [
    {
     "name": "stdout",
     "output_type": "stream",
     "text": [
      "Enter the no.of terms: 9\n",
      "The Fibonacci Sequence is:\n",
      "0 1 1 2 3 5 8 13 21 34 "
     ]
    }
   ],
   "source": [
    "#Solution in q1\n",
    "#This function is used to calculate Fibonacci Number of nth term using recursion\n",
    "def fibo(n):\n",
    "    if(n<=1):\n",
    "        return n\n",
    "    else:\n",
    "        return fibo(n-1)+fibo(n-2)\n",
    "nt=int(input(\"Enter the no.of terms: \"))\n",
    "if(nt<=0):\n",
    "    print(\"Entered Number is Negative or Zero\")\n",
    "else:\n",
    "    #Used to generate Fibonacci Sequence for nth term\n",
    "    print(\"The Fibonacci Sequence is:\")\n",
    "    #nt+1 is used to include the last term otherwise it would generate till n-1th term\n",
    "    for i in range(nt+1):\n",
    "        print(fibo(i),end=' ')"
   ]
  },
  {
   "cell_type": "markdown",
   "id": "7113fbd1",
   "metadata": {},
   "source": [
    "Write a Python Program to Find Factorial of Number Using Recursion?"
   ]
  },
  {
   "cell_type": "code",
   "execution_count": 8,
   "id": "5bf87e17",
   "metadata": {},
   "outputs": [
    {
     "name": "stdout",
     "output_type": "stream",
     "text": [
      "Enter the value for n: 6\n",
      "Factorial of 6 is 720\n"
     ]
    }
   ],
   "source": [
    "#Solution in q2\n",
    "def fact(n):\n",
    "    return 1 if(n==0 or n==1) else n*fact(n-1)\n",
    "n=int(input(\"Enter the value for n: \"))\n",
    "print(\"Factorial of {0} is {1}\".format(n,fact(n)))"
   ]
  },
  {
   "cell_type": "markdown",
   "id": "c2aa2964",
   "metadata": {},
   "source": [
    "Write a Python Program to calculate your Body Mass Index?"
   ]
  },
  {
   "cell_type": "code",
   "execution_count": 9,
   "id": "70797205",
   "metadata": {},
   "outputs": [
    {
     "name": "stdout",
     "output_type": "stream",
     "text": [
      "Enter height (in cm): 155\n",
      "Enter weight (in kg): 57\n",
      "The BMI for the given height=155.00 and weight=57.00 is 23.73\n"
     ]
    }
   ],
   "source": [
    "#Solution in q3\n",
    "height=float(input(\"Enter height (in cm): \"))\n",
    "weight=float(input(\"Enter weight (in kg): \"))\n",
    "BMI=weight/((height/100)**2)\n",
    "print(\"The BMI for the given height=%.2f and weight=%.2f is %.2f\"%(height,weight,BMI))"
   ]
  },
  {
   "cell_type": "markdown",
   "id": "a37dad8e",
   "metadata": {},
   "source": [
    "Write a Python Program to calculate the natural logarithm of any number?"
   ]
  },
  {
   "cell_type": "code",
   "execution_count": 13,
   "id": "d6da4fd0",
   "metadata": {},
   "outputs": [
    {
     "name": "stdout",
     "output_type": "stream",
     "text": [
      "Enter the value for n: 10\n",
      "Natural logarithm for the given number n=10 is 2.302585092994046\n"
     ]
    }
   ],
   "source": [
    "#Solution in q4\n",
    "import math\n",
    "n=int(input(\"Enter the value for n: \"))\n",
    "print(\"Natural logarithm for the given number n={0} is {1}\".format(n,math.log(n)))"
   ]
  },
  {
   "cell_type": "markdown",
   "id": "32861d2c",
   "metadata": {},
   "source": [
    "Write a Python Program for cube sum of first n natural numbers?"
   ]
  },
  {
   "cell_type": "code",
   "execution_count": 14,
   "id": "a54e8f62",
   "metadata": {},
   "outputs": [
    {
     "name": "stdout",
     "output_type": "stream",
     "text": [
      "Enter the value for n: 5\n",
      "The Cube Sum of the given number n=5 is 225\n"
     ]
    }
   ],
   "source": [
    "#Solution in q5\n",
    "n=int(input(\"Enter the value for n: \"))\n",
    "Cube_Sum=0\n",
    "for i in range(1,n+1):\n",
    "    Cube_Sum+=i**3\n",
    "print(\"The Cube Sum of the given number n={0} is {1}\".format(n,Cube_Sum))"
   ]
  },
  {
   "cell_type": "code",
   "execution_count": null,
   "id": "8b73da43",
   "metadata": {},
   "outputs": [],
   "source": []
  }
 ],
 "metadata": {
  "kernelspec": {
   "display_name": "Python 3 (ipykernel)",
   "language": "python",
   "name": "python3"
  },
  "language_info": {
   "codemirror_mode": {
    "name": "ipython",
    "version": 3
   },
   "file_extension": ".py",
   "mimetype": "text/x-python",
   "name": "python",
   "nbconvert_exporter": "python",
   "pygments_lexer": "ipython3",
   "version": "3.9.7"
  }
 },
 "nbformat": 4,
 "nbformat_minor": 5
}
