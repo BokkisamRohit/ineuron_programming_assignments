{
 "cells": [
  {
   "cell_type": "markdown",
   "id": "47754085",
   "metadata": {},
   "source": [
    "1. Write a Python program to convert kilometers to miles?"
   ]
  },
  {
   "cell_type": "code",
   "execution_count": 14,
   "id": "f24c73b4",
   "metadata": {},
   "outputs": [
    {
     "name": "stdout",
     "output_type": "stream",
     "text": [
      "Enter the kilometers: 2.5\n",
      "2.50 kilometers is equivalent to 1.55 miles\n"
     ]
    }
   ],
   "source": [
    "#Solution for q1\n",
    "kilometers=float(input(\"Enter the kilometers: \"))\n",
    "miles_conversion=kilometers*0.621\n",
    "print(\"%.2f kilometers is equivalent to %.2f miles\"%(kilometers,miles_conversion))"
   ]
  },
  {
   "cell_type": "markdown",
   "id": "24e23de2",
   "metadata": {},
   "source": [
    "2. Write a Python program to convert Celsius to Fahrenheit?"
   ]
  },
  {
   "cell_type": "code",
   "execution_count": 3,
   "id": "fe130a2d",
   "metadata": {},
   "outputs": [
    {
     "name": "stdout",
     "output_type": "stream",
     "text": [
      "Enter the celsius: 37.5\n",
      "37.50 degree celsius is equivalent to 99.50 degree Fahrenheit\n"
     ]
    }
   ],
   "source": [
    "#Solution for q2\n",
    "celsius=float(input(\"Enter the celsius: \"))\n",
    "fahrenheit_conversion=(celsius*(9/5))+32\n",
    "print(\"%.2f degree celsius is equivalent to %.2f degree Fahrenheit\"%(celsius,fahrenheit_conversion))"
   ]
  },
  {
   "cell_type": "markdown",
   "id": "7affda1d",
   "metadata": {},
   "source": [
    "3. Write a Python program to display calendar?"
   ]
  },
  {
   "cell_type": "code",
   "execution_count": 5,
   "id": "7abb0af4",
   "metadata": {},
   "outputs": [
    {
     "name": "stdout",
     "output_type": "stream",
     "text": [
      "Enter the year: 2023\n",
      "Enter the month: 06\n",
      "     June 2023\n",
      "Mo Tu We Th Fr Sa Su\n",
      "          1  2  3  4\n",
      " 5  6  7  8  9 10 11\n",
      "12 13 14 15 16 17 18\n",
      "19 20 21 22 23 24 25\n",
      "26 27 28 29 30\n",
      "\n"
     ]
    }
   ],
   "source": [
    "#Solution for q3\n",
    "import calendar\n",
    "year=int(input(\"Enter the year: \"))\n",
    "month=int(input(\"Enter the month: \"))\n",
    "print(calendar.month(year,month))"
   ]
  },
  {
   "cell_type": "markdown",
   "id": "c733e792",
   "metadata": {},
   "source": [
    "4. Write a Python program to solve quadratic equation?"
   ]
  },
  {
   "cell_type": "code",
   "execution_count": 12,
   "id": "980c4114",
   "metadata": {},
   "outputs": [
    {
     "name": "stdout",
     "output_type": "stream",
     "text": [
      "Enter Value for constant a: 1\n",
      "Enter Value for constant b: 7\n",
      "Enter Value for constant c: 6\n",
      "The solutions for the given quadratic equation is are (-6+0j) and (-1+0j)\n"
     ]
    }
   ],
   "source": [
    "#Solution for q4\n",
    "'''\n",
    "(-b+/-((b**2)-(4*a*c))**0.5)/(2*a)\n",
    "here after -b it is + or - . Don't take / this as division operator.\n",
    "((b**2)-(4*a*c))**0.5--Discriminant part\n",
    "'''\n",
    "import cmath\n",
    "#taking constant values from the user for variables a,b and c\n",
    "a=int(input(\"Enter Value for constant a: \"))\n",
    "b=int(input(\"Enter Value for constant b: \"))\n",
    "c=int(input(\"Enter Value for constant c: \"))\n",
    "#calculating discriminant\n",
    "d=(b**2)-(4*a*c)\n",
    "#calculating two possible solutions\n",
    "solution1=(-b-cmath.sqrt(d))/(2*a)\n",
    "solution2=(-b+cmath.sqrt(d))/(2*a)\n",
    "#displaying the solutions\n",
    "print(\"The solutions for the given quadratic equation is are {0} and {1}\".format(solution1,solution2))"
   ]
  },
  {
   "cell_type": "markdown",
   "id": "a850fdf9",
   "metadata": {},
   "source": [
    "5. Write a Python program to swap two variables without temp variable?"
   ]
  },
  {
   "cell_type": "code",
   "execution_count": 13,
   "id": "24e637f4",
   "metadata": {},
   "outputs": [
    {
     "name": "stdout",
     "output_type": "stream",
     "text": [
      "Enter number1: 4\n",
      "Enter number2: 5\n",
      "The numbers, before swapping is number1=4 and number2=5\n",
      "The numbers, after swapping is number1=5 and number2=4\n"
     ]
    }
   ],
   "source": [
    "#Solution for q5\n",
    "n1=int(input(\"Enter number1: \"))\n",
    "n2=int(input(\"Enter number2: \"))\n",
    "print(\"The numbers, before swapping is number1={0} and number2={1}\".format(n1,n2))\n",
    "n1=n1+n2 \n",
    "n2=n1-n2\n",
    "n1=n1-n2\n",
    "print(\"The numbers, after swapping is number1={0} and number2={1}\".format(n1,n2))"
   ]
  },
  {
   "cell_type": "code",
   "execution_count": null,
   "id": "94778a98",
   "metadata": {},
   "outputs": [],
   "source": []
  }
 ],
 "metadata": {
  "kernelspec": {
   "display_name": "Python 3 (ipykernel)",
   "language": "python",
   "name": "python3"
  },
  "language_info": {
   "codemirror_mode": {
    "name": "ipython",
    "version": 3
   },
   "file_extension": ".py",
   "mimetype": "text/x-python",
   "name": "python",
   "nbconvert_exporter": "python",
   "pygments_lexer": "ipython3",
   "version": "3.9.7"
  }
 },
 "nbformat": 4,
 "nbformat_minor": 5
}
