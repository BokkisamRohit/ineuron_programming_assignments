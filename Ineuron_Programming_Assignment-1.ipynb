{
 "cells": [
  {
   "cell_type": "markdown",
   "id": "e96ca366",
   "metadata": {},
   "source": [
    "1. Write a Python program to print \"Hello Python\"?"
   ]
  },
  {
   "cell_type": "code",
   "execution_count": 1,
   "id": "fd7b8fb8",
   "metadata": {},
   "outputs": [
    {
     "name": "stdout",
     "output_type": "stream",
     "text": [
      "Hello Python\n"
     ]
    }
   ],
   "source": [
    "# Solution for q1\n",
    "print(\"Hello Python\")"
   ]
  },
  {
   "cell_type": "markdown",
   "id": "c586ff2e",
   "metadata": {},
   "source": [
    "2. Write a Python program to do arithmetical operations addition and division.?"
   ]
  },
  {
   "cell_type": "code",
   "execution_count": 8,
   "id": "928460f3",
   "metadata": {},
   "outputs": [
    {
     "name": "stdout",
     "output_type": "stream",
     "text": [
      "Please enter the arithmetic operators from the given list [\"+\",\"/\"]: /\n",
      "Enter number-1: 40\n",
      "Enter number-2: 0\n",
      "division by zero\n"
     ]
    }
   ],
   "source": [
    "#Solution for q2\n",
    "op=input(\"Please enter the arithmetic operators from the given list [\\\"+\\\",\\\"/\\\"]: \")\n",
    "l=[\"+\",\"/\"]\n",
    "if(op in l):\n",
    "    if(op==\"+\"):\n",
    "        n1=int(input(\"Enter number-1: \"))\n",
    "        n2=int(input(\"Enter number-2: \"))\n",
    "        Sum=n1+n2\n",
    "        print(\"Sum of {0} {1} {2} = {3}\" .format(n1,op,n2,Sum))\n",
    "    elif(op==\"/\"):\n",
    "        try:\n",
    "            n1=int(input(\"Enter number-1: \"))\n",
    "            n2=int(input(\"Enter number-2: \"))\n",
    "            Div=n1/n2\n",
    "            print(\"Sum of {0} {1} {2} = {3}\" .format(n1,op,n2,Div))\n",
    "        except Exception as e:\n",
    "            print(e)\n",
    "else:\n",
    "    print(\"Entered Invalid Arithmetic Operators!!!\")"
   ]
  },
  {
   "cell_type": "markdown",
   "id": "a7411b14",
   "metadata": {},
   "source": [
    "3. Write a Python program to find the area of a triangle?"
   ]
  },
  {
   "cell_type": "code",
   "execution_count": 10,
   "id": "a68422fc",
   "metadata": {},
   "outputs": [
    {
     "name": "stdout",
     "output_type": "stream",
     "text": [
      "Enter the value for Side-1 of the triangle: 5\n",
      "Enter the value for Side-2 of the triangle: 6\n",
      "Enter the value for Side-3 of the triangle: 7\n",
      "The area of the given Triangle with sides 5.00, 6.00 and 7.00 is 14.70\n"
     ]
    }
   ],
   "source": [
    "#Solution for q3(For Area of triangle I am using Heron's formula)\n",
    "import math\n",
    "side1=float(input(\"Enter the value for Side-1 of the triangle: \"))\n",
    "side2=float(input(\"Enter the value for Side-2 of the triangle: \"))\n",
    "side3=float(input(\"Enter the value for Side-3 of the triangle: \"))\n",
    "s=(side1+side2+side3)/2#Semi-Perimeter\n",
    "Area_of_Triangle=math.sqrt((s*(s-side1)*(s-side2)*(s-side3)))\n",
    "print(\"The area of the given Triangle with sides %.2f, %.2f and %.2f is %.2f\"%(side1,side2,side3,Area_of_Triangle))"
   ]
  },
  {
   "cell_type": "markdown",
   "id": "3676ae3a",
   "metadata": {},
   "source": [
    "4. Write a Python program to swap two variables?"
   ]
  },
  {
   "cell_type": "code",
   "execution_count": 11,
   "id": "1011dbeb",
   "metadata": {},
   "outputs": [
    {
     "name": "stdout",
     "output_type": "stream",
     "text": [
      "Enter number-1: 4\n",
      "Enter number-2: 5\n",
      "Before Swapping the state of n1 and n2 variables are n1=4 and n2=5\n",
      "After Swapping the state of n1 and n2 variables are n1=5 and n2=4\n"
     ]
    }
   ],
   "source": [
    "#Solution for q4\n",
    "n1=int(input(\"Enter number-1: \"))\n",
    "n2=int(input(\"Enter number-2: \"))\n",
    "print(\"Before Swapping the state of n1 and n2 variables are n1={0} and n2={1}\".format(n1,n2))\n",
    "n1,n2=n2,n1\n",
    "print(\"After Swapping the state of n1 and n2 variables are n1={0} and n2={1}\".format(n1,n2))"
   ]
  },
  {
   "cell_type": "markdown",
   "id": "5696cf97",
   "metadata": {},
   "source": [
    "5. Write a Python program to generate a random number?"
   ]
  },
  {
   "cell_type": "code",
   "execution_count": 13,
   "id": "c490badd",
   "metadata": {},
   "outputs": [
    {
     "name": "stdout",
     "output_type": "stream",
     "text": [
      "Enter number-1: 0\n",
      "Enter number-2: 9\n",
      "Random number generated between the range of numbers i.e., 0 and 9 is 5\n"
     ]
    }
   ],
   "source": [
    "#Solution for q5\n",
    "import random\n",
    "n1=int(input(\"Enter number-1: \"))\n",
    "n2=int(input(\"Enter number-2: \"))\n",
    "print(\"Random number generated between the range of numbers i.e., {0} and {1} is {2}\".format(n1,n2,random.randint(n1,n2)))"
   ]
  },
  {
   "cell_type": "code",
   "execution_count": null,
   "id": "9643a454",
   "metadata": {},
   "outputs": [],
   "source": []
  }
 ],
 "metadata": {
  "kernelspec": {
   "display_name": "Python 3 (ipykernel)",
   "language": "python",
   "name": "python3"
  },
  "language_info": {
   "codemirror_mode": {
    "name": "ipython",
    "version": 3
   },
   "file_extension": ".py",
   "mimetype": "text/x-python",
   "name": "python",
   "nbconvert_exporter": "python",
   "pygments_lexer": "ipython3",
   "version": "3.9.7"
  }
 },
 "nbformat": 4,
 "nbformat_minor": 5
}
